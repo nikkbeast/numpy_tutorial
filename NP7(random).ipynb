{
 "cells": [
  {
   "cell_type": "code",
   "execution_count": 1,
   "id": "8f17524a",
   "metadata": {},
   "outputs": [],
   "source": [
    "import numpy as np\n",
    "import random"
   ]
  },
  {
   "cell_type": "code",
   "execution_count": 6,
   "id": "0e822579",
   "metadata": {},
   "outputs": [
    {
     "data": {
      "text/plain": [
       "array([0.80300953])"
      ]
     },
     "execution_count": 6,
     "metadata": {},
     "output_type": "execute_result"
    }
   ],
   "source": [
    "np.random.random(1)\n",
    "#np.random.random((0,1))"
   ]
  },
  {
   "cell_type": "code",
   "execution_count": 7,
   "id": "2895d7ed",
   "metadata": {},
   "outputs": [
    {
     "data": {
      "text/plain": [
       "array([[0.63078864, 0.02278436, 0.6623271 ],\n",
       "       [0.72108198, 0.1014582 , 0.92135897],\n",
       "       [0.2627335 , 0.06063581, 0.236516  ]])"
      ]
     },
     "execution_count": 7,
     "metadata": {},
     "output_type": "execute_result"
    }
   ],
   "source": [
    "np.random.random((3,3))"
   ]
  },
  {
   "cell_type": "code",
   "execution_count": 8,
   "id": "b46bff55",
   "metadata": {},
   "outputs": [
    {
     "data": {
      "text/plain": [
       "2"
      ]
     },
     "execution_count": 8,
     "metadata": {},
     "output_type": "execute_result"
    }
   ],
   "source": [
    "np.random.randint(1,4)"
   ]
  },
  {
   "cell_type": "code",
   "execution_count": 9,
   "id": "3e0e347c",
   "metadata": {},
   "outputs": [
    {
     "data": {
      "text/plain": [
       "array([[3, 2, 3],\n",
       "       [1, 2, 3],\n",
       "       [3, 1, 1]])"
      ]
     },
     "execution_count": 9,
     "metadata": {},
     "output_type": "execute_result"
    }
   ],
   "source": [
    "np.random.randint(1,4,(3,3))"
   ]
  },
  {
   "cell_type": "code",
   "execution_count": 10,
   "id": "b3c0c2f2",
   "metadata": {},
   "outputs": [
    {
     "data": {
      "text/plain": [
       "array([[2, 1, 1, 3],\n",
       "       [1, 2, 2, 2],\n",
       "       [1, 3, 3, 2]])"
      ]
     },
     "execution_count": 10,
     "metadata": {},
     "output_type": "execute_result"
    }
   ],
   "source": [
    "np.random.randint(1,4,(3,4))"
   ]
  },
  {
   "cell_type": "code",
   "execution_count": 11,
   "id": "079007e2",
   "metadata": {},
   "outputs": [
    {
     "data": {
      "text/plain": [
       "array([[[2, 3, 2],\n",
       "        [2, 1, 1],\n",
       "        [3, 3, 1]],\n",
       "\n",
       "       [[1, 3, 1],\n",
       "        [1, 3, 1],\n",
       "        [1, 1, 1]],\n",
       "\n",
       "       [[2, 3, 3],\n",
       "        [3, 3, 1],\n",
       "        [3, 1, 2]]])"
      ]
     },
     "execution_count": 11,
     "metadata": {},
     "output_type": "execute_result"
    }
   ],
   "source": [
    "np.random.randint(1,4,(3,3,3))"
   ]
  },
  {
   "cell_type": "code",
   "execution_count": 12,
   "id": "d5988a2b",
   "metadata": {},
   "outputs": [
    {
     "data": {
      "text/plain": [
       "array([[[1, 2, 1],\n",
       "        [2, 2, 3],\n",
       "        [1, 3, 1]],\n",
       "\n",
       "       [[1, 1, 3],\n",
       "        [2, 3, 3],\n",
       "        [1, 2, 2]],\n",
       "\n",
       "       [[2, 2, 1],\n",
       "        [2, 1, 1],\n",
       "        [2, 3, 1]]])"
      ]
     },
     "execution_count": 12,
     "metadata": {},
     "output_type": "execute_result"
    }
   ],
   "source": [
    "np.random.seed(0)\n",
    "np.random.randint(1,4,(3,3,3))"
   ]
  },
  {
   "cell_type": "code",
   "execution_count": 13,
   "id": "ae80af08",
   "metadata": {},
   "outputs": [
    {
     "data": {
      "text/plain": [
       "array([[[1, 2, 1],\n",
       "        [2, 2, 3],\n",
       "        [1, 3, 1]],\n",
       "\n",
       "       [[1, 1, 3],\n",
       "        [2, 3, 3],\n",
       "        [1, 2, 2]],\n",
       "\n",
       "       [[2, 2, 1],\n",
       "        [2, 1, 1],\n",
       "        [2, 3, 1]]])"
      ]
     },
     "execution_count": 13,
     "metadata": {},
     "output_type": "execute_result"
    }
   ],
   "source": [
    "np.random.seed(0)\n",
    "np.random.randint(1,4,(3,3,3))"
   ]
  },
  {
   "cell_type": "code",
   "execution_count": 14,
   "id": "1b123d73",
   "metadata": {},
   "outputs": [
    {
     "data": {
      "text/plain": [
       "array([0.97861834, 0.79915856, 0.46147936, 0.78052918, 0.11827443])"
      ]
     },
     "execution_count": 14,
     "metadata": {},
     "output_type": "execute_result"
    }
   ],
   "source": [
    "np.random.rand(5)"
   ]
  },
  {
   "cell_type": "code",
   "execution_count": 15,
   "id": "ab816599",
   "metadata": {},
   "outputs": [
    {
     "data": {
      "text/plain": [
       "array([[[0.63992102, 0.14335329, 0.94466892],\n",
       "        [0.52184832, 0.41466194, 0.26455561],\n",
       "        [0.77423369, 0.45615033, 0.56843395]],\n",
       "\n",
       "       [[0.0187898 , 0.6176355 , 0.61209572],\n",
       "        [0.616934  , 0.94374808, 0.6818203 ],\n",
       "        [0.3595079 , 0.43703195, 0.6976312 ]]])"
      ]
     },
     "execution_count": 15,
     "metadata": {},
     "output_type": "execute_result"
    }
   ],
   "source": [
    "np.random.rand(2,3,3)"
   ]
  },
  {
   "cell_type": "code",
   "execution_count": 19,
   "id": "0d358442",
   "metadata": {},
   "outputs": [
    {
     "data": {
      "text/plain": [
       "array([[-0.02797118,  1.47598983,  0.6467801 , -0.36433431, -0.67877739],\n",
       "       [-0.35362786, -0.74074747, -0.67502183, -0.13278426,  0.61980106],\n",
       "       [ 1.79116846,  0.17100044, -1.72567135,  0.16065854, -0.85898532],\n",
       "       [-0.20642094,  0.48842647, -0.83833097,  0.38116374, -0.99090328],\n",
       "       [ 1.01788005,  0.3415874 , -1.25088622,  0.92525075, -0.90478616]])"
      ]
     },
     "execution_count": 19,
     "metadata": {},
     "output_type": "execute_result"
    }
   ],
   "source": [
    "np.random.randn(5,5)"
   ]
  },
  {
   "cell_type": "markdown",
   "id": "1b8d2f4e",
   "metadata": {},
   "source": [
    "x=[1,2,3,4]\n",
    "np.random.choice(x)"
   ]
  },
  {
   "cell_type": "code",
   "execution_count": 20,
   "id": "9bfde339",
   "metadata": {},
   "outputs": [
    {
     "data": {
      "text/plain": [
       "2"
      ]
     },
     "execution_count": 20,
     "metadata": {},
     "output_type": "execute_result"
    }
   ],
   "source": [
    "x=[1,2,3,4]\n",
    "np.random.choice(x)"
   ]
  },
  {
   "cell_type": "code",
   "execution_count": 21,
   "id": "705503dc",
   "metadata": {},
   "outputs": [
    {
     "data": {
      "text/plain": [
       "1"
      ]
     },
     "execution_count": 21,
     "metadata": {},
     "output_type": "execute_result"
    }
   ],
   "source": [
    "x=[1,2,3,4]\n",
    "np.random.choice(x)"
   ]
  },
  {
   "cell_type": "code",
   "execution_count": 24,
   "id": "81036a46",
   "metadata": {},
   "outputs": [
    {
     "data": {
      "text/plain": [
       "array([2, 3, 4, 1])"
      ]
     },
     "execution_count": 24,
     "metadata": {},
     "output_type": "execute_result"
    }
   ],
   "source": [
    "x=[1,2,3,4]\n",
    "np.random.permutation(x)"
   ]
  },
  {
   "cell_type": "code",
   "execution_count": 25,
   "id": "2e581569",
   "metadata": {},
   "outputs": [
    {
     "data": {
      "text/plain": [
       "array([[ 5,  6,  7,  8],\n",
       "       [13, 14, 15, 16],\n",
       "       [ 1,  2,  3,  4],\n",
       "       [ 9, 10, 11, 12]])"
      ]
     },
     "execution_count": 25,
     "metadata": {},
     "output_type": "execute_result"
    }
   ],
   "source": [
    "arr1=np.arange(1,17).reshape((4,4))\n",
    "np.random.permutation(arr1)"
   ]
  },
  {
   "cell_type": "code",
   "execution_count": null,
   "id": "5862c4f7",
   "metadata": {},
   "outputs": [],
   "source": []
  }
 ],
 "metadata": {
  "kernelspec": {
   "display_name": "Python 3 (ipykernel)",
   "language": "python",
   "name": "python3"
  },
  "language_info": {
   "codemirror_mode": {
    "name": "ipython",
    "version": 3
   },
   "file_extension": ".py",
   "mimetype": "text/x-python",
   "name": "python",
   "nbconvert_exporter": "python",
   "pygments_lexer": "ipython3",
   "version": "3.11.4"
  }
 },
 "nbformat": 4,
 "nbformat_minor": 5
}
