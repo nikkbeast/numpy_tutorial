{
 "cells": [
  {
   "cell_type": "code",
   "execution_count": 1,
   "id": "ee796282",
   "metadata": {},
   "outputs": [],
   "source": [
    "import numpy as np\n"
   ]
  },
  {
   "cell_type": "code",
   "execution_count": 2,
   "id": "04013e4a",
   "metadata": {},
   "outputs": [],
   "source": [
    "name= \"abcde\"\n",
    "name2 = \"fghij\""
   ]
  },
  {
   "cell_type": "code",
   "execution_count": 3,
   "id": "1d14694b",
   "metadata": {},
   "outputs": [
    {
     "data": {
      "text/plain": [
       "array('abcdefghij', dtype='<U10')"
      ]
     },
     "execution_count": 3,
     "metadata": {},
     "output_type": "execute_result"
    }
   ],
   "source": [
    "np.char.add(name,name2)"
   ]
  },
  {
   "cell_type": "code",
   "execution_count": 6,
   "id": "63d34abc",
   "metadata": {},
   "outputs": [
    {
     "data": {
      "text/plain": [
       "array('asderf', dtype='<U6')"
      ]
     },
     "execution_count": 6,
     "metadata": {},
     "output_type": "execute_result"
    }
   ],
   "source": [
    "name3 = \"ASDerF\"\n",
    "np.char.lower(name3)"
   ]
  },
  {
   "cell_type": "code",
   "execution_count": 7,
   "id": "286997d4",
   "metadata": {},
   "outputs": [
    {
     "data": {
      "text/plain": [
       "array('ABCDE', dtype='<U5')"
      ]
     },
     "execution_count": 7,
     "metadata": {},
     "output_type": "execute_result"
    }
   ],
   "source": [
    "np.char.upper(name)"
   ]
  },
  {
   "cell_type": "code",
   "execution_count": 8,
   "id": "894d3ad8",
   "metadata": {},
   "outputs": [
    {
     "data": {
      "text/plain": [
       "array('                                fghij                                 ',\n",
       "      dtype='<U70')"
      ]
     },
     "execution_count": 8,
     "metadata": {},
     "output_type": "execute_result"
    }
   ],
   "source": [
    "np.char.center(name2,70)"
   ]
  },
  {
   "cell_type": "code",
   "execution_count": 10,
   "id": "dbc88b20",
   "metadata": {},
   "outputs": [
    {
     "data": {
      "text/plain": [
       "array('********************************fghij*********************************',\n",
       "      dtype='<U70')"
      ]
     },
     "execution_count": 10,
     "metadata": {},
     "output_type": "execute_result"
    }
   ],
   "source": [
    "np.char.center(name2,70,fillchar = \"*\")"
   ]
  },
  {
   "cell_type": "code",
   "execution_count": 11,
   "id": "67a327ca",
   "metadata": {},
   "outputs": [
    {
     "data": {
      "text/plain": [
       "array(list(['ASDerF']), dtype=object)"
      ]
     },
     "execution_count": 11,
     "metadata": {},
     "output_type": "execute_result"
    }
   ],
   "source": [
    "np.char.split(name3)"
   ]
  },
  {
   "cell_type": "code",
   "execution_count": 12,
   "id": "99471800",
   "metadata": {},
   "outputs": [
    {
     "data": {
      "text/plain": [
       "array(list(['ab', 'cg', 'vf']), dtype=object)"
      ]
     },
     "execution_count": 12,
     "metadata": {},
     "output_type": "execute_result"
    }
   ],
   "source": [
    "str1 = \"ab cg vf\"\n",
    "np.char.split(str1)\n"
   ]
  },
  {
   "cell_type": "code",
   "execution_count": 13,
   "id": "1d2f5dee",
   "metadata": {},
   "outputs": [
    {
     "data": {
      "text/plain": [
       "array(list(['hello', 'world']), dtype=object)"
      ]
     },
     "execution_count": 13,
     "metadata": {},
     "output_type": "execute_result"
    }
   ],
   "source": [
    "np.char.splitlines(\"hello\\nworld\")"
   ]
  },
  {
   "cell_type": "code",
   "execution_count": 14,
   "id": "aa327aab",
   "metadata": {},
   "outputs": [
    {
     "data": {
      "text/plain": [
       "array(['a:b:c', 'e/f/g'], dtype='<U5')"
      ]
     },
     "execution_count": 14,
     "metadata": {},
     "output_type": "execute_result"
    }
   ],
   "source": [
    "str1=\"abc\"\n",
    "str2 = \"efg\"\n",
    "np.char.join([\":\",\"/\"],[str1,str2])"
   ]
  },
  {
   "cell_type": "code",
   "execution_count": 15,
   "id": "ae51f733",
   "metadata": {},
   "outputs": [
    {
     "data": {
      "text/plain": [
       "array(['a:b:c'], dtype='<U5')"
      ]
     },
     "execution_count": 15,
     "metadata": {},
     "output_type": "execute_result"
    }
   ],
   "source": [
    "str1=\"abc\"\n",
    "str2 = \"efg\"\n",
    "np.char.join([\":\"],[str1])"
   ]
  },
  {
   "cell_type": "code",
   "execution_count": 16,
   "id": "0dab2265",
   "metadata": {},
   "outputs": [
    {
     "data": {
      "text/plain": [
       "array('artificial intelligence is dangerous', dtype='<U36')"
      ]
     },
     "execution_count": 16,
     "metadata": {},
     "output_type": "execute_result"
    }
   ],
   "source": [
    "str5 = \"ai is dangerous\"\n",
    "np.char.replace(str5,\"ai\",\"artificial intelligence\")"
   ]
  },
  {
   "cell_type": "code",
   "execution_count": 17,
   "id": "41970ca2",
   "metadata": {},
   "outputs": [
    {
     "data": {
      "text/plain": [
       "array(False)"
      ]
     },
     "execution_count": 17,
     "metadata": {},
     "output_type": "execute_result"
    }
   ],
   "source": [
    "str1=\"abc\"\n",
    "str2 = \"efg\"\n",
    "np.char.equal(str1,str2)"
   ]
  },
  {
   "cell_type": "code",
   "execution_count": 18,
   "id": "7a6e3182",
   "metadata": {},
   "outputs": [
    {
     "data": {
      "text/plain": [
       "array(1)"
      ]
     },
     "execution_count": 18,
     "metadata": {},
     "output_type": "execute_result"
    }
   ],
   "source": [
    "np.char.count(str1,\"a\")"
   ]
  },
  {
   "cell_type": "code",
   "execution_count": 19,
   "id": "a8884cf6",
   "metadata": {},
   "outputs": [
    {
     "data": {
      "text/plain": [
       "array(1)"
      ]
     },
     "execution_count": 19,
     "metadata": {},
     "output_type": "execute_result"
    }
   ],
   "source": [
    "np.char.find(str2,\"f\")"
   ]
  },
  {
   "cell_type": "code",
   "execution_count": 20,
   "id": "76425278",
   "metadata": {},
   "outputs": [
    {
     "data": {
      "text/plain": [
       "array(2)"
      ]
     },
     "execution_count": 20,
     "metadata": {},
     "output_type": "execute_result"
    }
   ],
   "source": [
    "np.char.find(str2,\"g\")"
   ]
  },
  {
   "cell_type": "code",
   "execution_count": null,
   "id": "e79454ac",
   "metadata": {},
   "outputs": [],
   "source": []
  }
 ],
 "metadata": {
  "kernelspec": {
   "display_name": "Python 3 (ipykernel)",
   "language": "python",
   "name": "python3"
  },
  "language_info": {
   "codemirror_mode": {
    "name": "ipython",
    "version": 3
   },
   "file_extension": ".py",
   "mimetype": "text/x-python",
   "name": "python",
   "nbconvert_exporter": "python",
   "pygments_lexer": "ipython3",
   "version": "3.11.4"
  }
 },
 "nbformat": 4,
 "nbformat_minor": 5
}
