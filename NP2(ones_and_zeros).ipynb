{
 "cells": [
  {
   "cell_type": "code",
   "execution_count": 1,
   "id": "d008f2f7",
   "metadata": {},
   "outputs": [],
   "source": [
    "import numpy as np"
   ]
  },
  {
   "cell_type": "code",
   "execution_count": 2,
   "id": "43a017e4",
   "metadata": {},
   "outputs": [
    {
     "name": "stdout",
     "output_type": "stream",
     "text": [
      "[[1 1 1]\n",
      " [1 1 1]\n",
      " [1 1 1]]\n"
     ]
    }
   ],
   "source": [
    "mx = np.array([[1,1,1],[1,1,1],[1,1,1]])\n",
    "print(mx)"
   ]
  },
  {
   "cell_type": "code",
   "execution_count": 3,
   "id": "dc0c8697",
   "metadata": {},
   "outputs": [
    {
     "data": {
      "text/plain": [
       "array([1., 1., 1., 1., 1.])"
      ]
     },
     "execution_count": 3,
     "metadata": {},
     "output_type": "execute_result"
    }
   ],
   "source": [
    "np.ones(5)"
   ]
  },
  {
   "cell_type": "code",
   "execution_count": 6,
   "id": "67594f5e",
   "metadata": {},
   "outputs": [
    {
     "name": "stdout",
     "output_type": "stream",
     "text": [
      "[[1. 1. 1. 1. 1.]\n",
      " [1. 1. 1. 1. 1.]\n",
      " [1. 1. 1. 1. 1.]\n",
      " [1. 1. 1. 1. 1.]]\n"
     ]
    }
   ],
   "source": [
    "mx1= np.ones((4,5))\n",
    "print(mx1)"
   ]
  },
  {
   "cell_type": "code",
   "execution_count": 7,
   "id": "c94addfb",
   "metadata": {},
   "outputs": [
    {
     "name": "stdout",
     "output_type": "stream",
     "text": [
      "[[1 1 1 1]\n",
      " [1 1 1 1]\n",
      " [1 1 1 1]]\n"
     ]
    }
   ],
   "source": [
    "mx2 = np.ones((3,4) , dtype = int)\n",
    "print(mx2)"
   ]
  },
  {
   "cell_type": "code",
   "execution_count": 8,
   "id": "0828e199",
   "metadata": {},
   "outputs": [
    {
     "name": "stdout",
     "output_type": "stream",
     "text": [
      "[0. 0. 0. 0. 0.]\n"
     ]
    }
   ],
   "source": [
    "mx3 = np.zeros(5)\n",
    "print(mx3)"
   ]
  },
  {
   "cell_type": "code",
   "execution_count": 9,
   "id": "eeb17950",
   "metadata": {},
   "outputs": [
    {
     "name": "stdout",
     "output_type": "stream",
     "text": [
      "[[0 0 0 0]\n",
      " [0 0 0 0]\n",
      " [0 0 0 0]]\n"
     ]
    }
   ],
   "source": [
    "print(np.zeros((3,4), dtype = int))"
   ]
  },
  {
   "cell_type": "code",
   "execution_count": 12,
   "id": "3c198752",
   "metadata": {},
   "outputs": [
    {
     "name": "stdout",
     "output_type": "stream",
     "text": [
      "[[4.67296746e-307 1.69121096e-306 1.20161118e-306 4.45060607e-308]\n",
      " [1.78021119e-306 1.11256817e-306 1.06811422e-306 1.42417221e-306]\n",
      " [1.11260619e-306 8.90094053e-307 1.86919378e-306 1.06809792e-306]\n",
      " [1.37962456e-306 1.69111861e-306 1.78020169e-306 7.56605918e-307]]\n"
     ]
    }
   ],
   "source": [
    "mx4 =np.empty((4,4))\n",
    "print(mx4)"
   ]
  },
  {
   "cell_type": "code",
   "execution_count": null,
   "id": "ce89a6c6",
   "metadata": {},
   "outputs": [],
   "source": []
  }
 ],
 "metadata": {
  "kernelspec": {
   "display_name": "Python 3 (ipykernel)",
   "language": "python",
   "name": "python3"
  },
  "language_info": {
   "codemirror_mode": {
    "name": "ipython",
    "version": 3
   },
   "file_extension": ".py",
   "mimetype": "text/x-python",
   "name": "python",
   "nbconvert_exporter": "python",
   "pygments_lexer": "ipython3",
   "version": "3.11.4"
  }
 },
 "nbformat": 4,
 "nbformat_minor": 5
}
